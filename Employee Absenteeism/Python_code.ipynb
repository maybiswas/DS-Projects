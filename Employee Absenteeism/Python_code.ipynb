{
 "cells": [
  {
   "cell_type": "code",
   "execution_count": 38,
   "metadata": {},
   "outputs": [],
   "source": [
    "#Set working directory"
   ]
  },
  {
   "cell_type": "code",
   "execution_count": 56,
   "metadata": {},
   "outputs": [
    {
     "data": {
      "text/plain": [
       "'F:\\\\DS\\\\edWisor\\\\Project 1'"
      ]
     },
     "execution_count": 56,
     "metadata": {},
     "output_type": "execute_result"
    }
   ],
   "source": [
    "import os\n",
    "os.chdir(\"F:/DS/edWisor/Project 1\")\n",
    "os.getcwd()"
   ]
  },
  {
   "cell_type": "markdown",
   "metadata": {},
   "source": [
    "# Load libraries"
   ]
  },
  {
   "cell_type": "code",
   "execution_count": 221,
   "metadata": {},
   "outputs": [],
   "source": [
    "import pandas as pd\n",
    "import matplotlib.pyplot as plt"
   ]
  },
  {
   "cell_type": "code",
   "execution_count": 225,
   "metadata": {},
   "outputs": [],
   "source": [
    "import numpy as np\n",
    "import seaborn as sns"
   ]
  },
  {
   "cell_type": "code",
   "execution_count": 253,
   "metadata": {},
   "outputs": [],
   "source": [
    "from sklearn.model_selection import train_test_split"
   ]
  },
  {
   "cell_type": "code",
   "execution_count": 232,
   "metadata": {},
   "outputs": [],
   "source": [
    "from random import randrange, uniform\n",
    "from scipy.stats import chi2_contingency"
   ]
  },
  {
   "cell_type": "code",
   "execution_count": 115,
   "metadata": {},
   "outputs": [],
   "source": [
    "from fancyimpute import KNN"
   ]
  },
  {
   "cell_type": "code",
   "execution_count": 310,
   "metadata": {
    "scrolled": false
   },
   "outputs": [],
   "source": [
    "from ggplot import *"
   ]
  },
  {
   "cell_type": "code",
   "execution_count": 43,
   "metadata": {},
   "outputs": [],
   "source": [
    "#Load the data"
   ]
  },
  {
   "cell_type": "code",
   "execution_count": 78,
   "metadata": {},
   "outputs": [],
   "source": [
    "data = pd.read_excel(\"Absenteeism_at_work_Project.xls\")"
   ]
  },
  {
   "cell_type": "code",
   "execution_count": 71,
   "metadata": {},
   "outputs": [
    {
     "data": {
      "text/plain": [
       "(740, 21)"
      ]
     },
     "execution_count": 71,
     "metadata": {},
     "output_type": "execute_result"
    }
   ],
   "source": [
    "data.shape"
   ]
  },
  {
   "cell_type": "code",
   "execution_count": 99,
   "metadata": {},
   "outputs": [
    {
     "data": {
      "text/html": [
       "<div>\n",
       "<style scoped>\n",
       "    .dataframe tbody tr th:only-of-type {\n",
       "        vertical-align: middle;\n",
       "    }\n",
       "\n",
       "    .dataframe tbody tr th {\n",
       "        vertical-align: top;\n",
       "    }\n",
       "\n",
       "    .dataframe thead th {\n",
       "        text-align: right;\n",
       "    }\n",
       "</style>\n",
       "<table border=\"1\" class=\"dataframe\">\n",
       "  <thead>\n",
       "    <tr style=\"text-align: right;\">\n",
       "      <th></th>\n",
       "      <th>ID</th>\n",
       "      <th>Reason for absence</th>\n",
       "      <th>Month of absence</th>\n",
       "      <th>Day of the week</th>\n",
       "      <th>Seasons</th>\n",
       "      <th>Transportation expense</th>\n",
       "      <th>Distance from Residence to Work</th>\n",
       "      <th>Service time</th>\n",
       "      <th>Age</th>\n",
       "      <th>Work load Average/day</th>\n",
       "      <th>...</th>\n",
       "      <th>Disciplinary failure</th>\n",
       "      <th>Education</th>\n",
       "      <th>Son</th>\n",
       "      <th>Social drinker</th>\n",
       "      <th>Social smoker</th>\n",
       "      <th>Pet</th>\n",
       "      <th>Weight</th>\n",
       "      <th>Height</th>\n",
       "      <th>Body mass index</th>\n",
       "      <th>Absenteeism time in hours</th>\n",
       "    </tr>\n",
       "  </thead>\n",
       "  <tbody>\n",
       "    <tr>\n",
       "      <th>0</th>\n",
       "      <td>11</td>\n",
       "      <td>26.0</td>\n",
       "      <td>7.0</td>\n",
       "      <td>3</td>\n",
       "      <td>1</td>\n",
       "      <td>289.0</td>\n",
       "      <td>36.0</td>\n",
       "      <td>13.0</td>\n",
       "      <td>33.0</td>\n",
       "      <td>239554.0</td>\n",
       "      <td>...</td>\n",
       "      <td>0.0</td>\n",
       "      <td>1.0</td>\n",
       "      <td>2.0</td>\n",
       "      <td>1.0</td>\n",
       "      <td>0.0</td>\n",
       "      <td>1.0</td>\n",
       "      <td>90.0</td>\n",
       "      <td>172.0</td>\n",
       "      <td>30.0</td>\n",
       "      <td>4.0</td>\n",
       "    </tr>\n",
       "    <tr>\n",
       "      <th>1</th>\n",
       "      <td>36</td>\n",
       "      <td>NaN</td>\n",
       "      <td>7.0</td>\n",
       "      <td>3</td>\n",
       "      <td>1</td>\n",
       "      <td>118.0</td>\n",
       "      <td>13.0</td>\n",
       "      <td>18.0</td>\n",
       "      <td>50.0</td>\n",
       "      <td>239554.0</td>\n",
       "      <td>...</td>\n",
       "      <td>1.0</td>\n",
       "      <td>1.0</td>\n",
       "      <td>1.0</td>\n",
       "      <td>1.0</td>\n",
       "      <td>0.0</td>\n",
       "      <td>0.0</td>\n",
       "      <td>98.0</td>\n",
       "      <td>178.0</td>\n",
       "      <td>31.0</td>\n",
       "      <td>0.0</td>\n",
       "    </tr>\n",
       "    <tr>\n",
       "      <th>2</th>\n",
       "      <td>3</td>\n",
       "      <td>23.0</td>\n",
       "      <td>7.0</td>\n",
       "      <td>4</td>\n",
       "      <td>1</td>\n",
       "      <td>179.0</td>\n",
       "      <td>51.0</td>\n",
       "      <td>18.0</td>\n",
       "      <td>38.0</td>\n",
       "      <td>239554.0</td>\n",
       "      <td>...</td>\n",
       "      <td>0.0</td>\n",
       "      <td>1.0</td>\n",
       "      <td>0.0</td>\n",
       "      <td>1.0</td>\n",
       "      <td>0.0</td>\n",
       "      <td>0.0</td>\n",
       "      <td>89.0</td>\n",
       "      <td>170.0</td>\n",
       "      <td>31.0</td>\n",
       "      <td>2.0</td>\n",
       "    </tr>\n",
       "    <tr>\n",
       "      <th>3</th>\n",
       "      <td>7</td>\n",
       "      <td>7.0</td>\n",
       "      <td>7.0</td>\n",
       "      <td>5</td>\n",
       "      <td>1</td>\n",
       "      <td>279.0</td>\n",
       "      <td>5.0</td>\n",
       "      <td>14.0</td>\n",
       "      <td>39.0</td>\n",
       "      <td>239554.0</td>\n",
       "      <td>...</td>\n",
       "      <td>0.0</td>\n",
       "      <td>1.0</td>\n",
       "      <td>2.0</td>\n",
       "      <td>1.0</td>\n",
       "      <td>1.0</td>\n",
       "      <td>0.0</td>\n",
       "      <td>68.0</td>\n",
       "      <td>168.0</td>\n",
       "      <td>24.0</td>\n",
       "      <td>4.0</td>\n",
       "    </tr>\n",
       "    <tr>\n",
       "      <th>4</th>\n",
       "      <td>11</td>\n",
       "      <td>23.0</td>\n",
       "      <td>7.0</td>\n",
       "      <td>5</td>\n",
       "      <td>1</td>\n",
       "      <td>289.0</td>\n",
       "      <td>36.0</td>\n",
       "      <td>13.0</td>\n",
       "      <td>33.0</td>\n",
       "      <td>239554.0</td>\n",
       "      <td>...</td>\n",
       "      <td>0.0</td>\n",
       "      <td>1.0</td>\n",
       "      <td>2.0</td>\n",
       "      <td>1.0</td>\n",
       "      <td>0.0</td>\n",
       "      <td>1.0</td>\n",
       "      <td>90.0</td>\n",
       "      <td>172.0</td>\n",
       "      <td>30.0</td>\n",
       "      <td>2.0</td>\n",
       "    </tr>\n",
       "    <tr>\n",
       "      <th>5</th>\n",
       "      <td>3</td>\n",
       "      <td>23.0</td>\n",
       "      <td>7.0</td>\n",
       "      <td>6</td>\n",
       "      <td>1</td>\n",
       "      <td>179.0</td>\n",
       "      <td>51.0</td>\n",
       "      <td>18.0</td>\n",
       "      <td>38.0</td>\n",
       "      <td>239554.0</td>\n",
       "      <td>...</td>\n",
       "      <td>0.0</td>\n",
       "      <td>1.0</td>\n",
       "      <td>0.0</td>\n",
       "      <td>1.0</td>\n",
       "      <td>0.0</td>\n",
       "      <td>0.0</td>\n",
       "      <td>89.0</td>\n",
       "      <td>170.0</td>\n",
       "      <td>31.0</td>\n",
       "      <td>NaN</td>\n",
       "    </tr>\n",
       "    <tr>\n",
       "      <th>6</th>\n",
       "      <td>10</td>\n",
       "      <td>22.0</td>\n",
       "      <td>7.0</td>\n",
       "      <td>6</td>\n",
       "      <td>1</td>\n",
       "      <td>NaN</td>\n",
       "      <td>52.0</td>\n",
       "      <td>3.0</td>\n",
       "      <td>28.0</td>\n",
       "      <td>239554.0</td>\n",
       "      <td>...</td>\n",
       "      <td>0.0</td>\n",
       "      <td>1.0</td>\n",
       "      <td>1.0</td>\n",
       "      <td>1.0</td>\n",
       "      <td>0.0</td>\n",
       "      <td>4.0</td>\n",
       "      <td>80.0</td>\n",
       "      <td>172.0</td>\n",
       "      <td>27.0</td>\n",
       "      <td>8.0</td>\n",
       "    </tr>\n",
       "    <tr>\n",
       "      <th>7</th>\n",
       "      <td>20</td>\n",
       "      <td>23.0</td>\n",
       "      <td>7.0</td>\n",
       "      <td>6</td>\n",
       "      <td>1</td>\n",
       "      <td>260.0</td>\n",
       "      <td>50.0</td>\n",
       "      <td>11.0</td>\n",
       "      <td>36.0</td>\n",
       "      <td>239554.0</td>\n",
       "      <td>...</td>\n",
       "      <td>0.0</td>\n",
       "      <td>1.0</td>\n",
       "      <td>4.0</td>\n",
       "      <td>1.0</td>\n",
       "      <td>0.0</td>\n",
       "      <td>0.0</td>\n",
       "      <td>65.0</td>\n",
       "      <td>168.0</td>\n",
       "      <td>23.0</td>\n",
       "      <td>4.0</td>\n",
       "    </tr>\n",
       "    <tr>\n",
       "      <th>8</th>\n",
       "      <td>14</td>\n",
       "      <td>19.0</td>\n",
       "      <td>7.0</td>\n",
       "      <td>2</td>\n",
       "      <td>1</td>\n",
       "      <td>155.0</td>\n",
       "      <td>12.0</td>\n",
       "      <td>14.0</td>\n",
       "      <td>34.0</td>\n",
       "      <td>239554.0</td>\n",
       "      <td>...</td>\n",
       "      <td>0.0</td>\n",
       "      <td>1.0</td>\n",
       "      <td>2.0</td>\n",
       "      <td>1.0</td>\n",
       "      <td>0.0</td>\n",
       "      <td>0.0</td>\n",
       "      <td>95.0</td>\n",
       "      <td>196.0</td>\n",
       "      <td>25.0</td>\n",
       "      <td>40.0</td>\n",
       "    </tr>\n",
       "    <tr>\n",
       "      <th>9</th>\n",
       "      <td>1</td>\n",
       "      <td>22.0</td>\n",
       "      <td>7.0</td>\n",
       "      <td>2</td>\n",
       "      <td>1</td>\n",
       "      <td>235.0</td>\n",
       "      <td>11.0</td>\n",
       "      <td>14.0</td>\n",
       "      <td>37.0</td>\n",
       "      <td>239554.0</td>\n",
       "      <td>...</td>\n",
       "      <td>0.0</td>\n",
       "      <td>3.0</td>\n",
       "      <td>1.0</td>\n",
       "      <td>0.0</td>\n",
       "      <td>0.0</td>\n",
       "      <td>1.0</td>\n",
       "      <td>88.0</td>\n",
       "      <td>172.0</td>\n",
       "      <td>29.0</td>\n",
       "      <td>8.0</td>\n",
       "    </tr>\n",
       "  </tbody>\n",
       "</table>\n",
       "<p>10 rows × 21 columns</p>\n",
       "</div>"
      ],
      "text/plain": [
       "   ID  Reason for absence  Month of absence  Day of the week  Seasons  \\\n",
       "0  11                26.0               7.0                3        1   \n",
       "1  36                 NaN               7.0                3        1   \n",
       "2   3                23.0               7.0                4        1   \n",
       "3   7                 7.0               7.0                5        1   \n",
       "4  11                23.0               7.0                5        1   \n",
       "5   3                23.0               7.0                6        1   \n",
       "6  10                22.0               7.0                6        1   \n",
       "7  20                23.0               7.0                6        1   \n",
       "8  14                19.0               7.0                2        1   \n",
       "9   1                22.0               7.0                2        1   \n",
       "\n",
       "   Transportation expense  Distance from Residence to Work  Service time  \\\n",
       "0                   289.0                             36.0          13.0   \n",
       "1                   118.0                             13.0          18.0   \n",
       "2                   179.0                             51.0          18.0   \n",
       "3                   279.0                              5.0          14.0   \n",
       "4                   289.0                             36.0          13.0   \n",
       "5                   179.0                             51.0          18.0   \n",
       "6                     NaN                             52.0           3.0   \n",
       "7                   260.0                             50.0          11.0   \n",
       "8                   155.0                             12.0          14.0   \n",
       "9                   235.0                             11.0          14.0   \n",
       "\n",
       "    Age  Work load Average/day             ...              \\\n",
       "0  33.0                239554.0            ...               \n",
       "1  50.0                239554.0            ...               \n",
       "2  38.0                239554.0            ...               \n",
       "3  39.0                239554.0            ...               \n",
       "4  33.0                239554.0            ...               \n",
       "5  38.0                239554.0            ...               \n",
       "6  28.0                239554.0            ...               \n",
       "7  36.0                239554.0            ...               \n",
       "8  34.0                239554.0            ...               \n",
       "9  37.0                239554.0            ...               \n",
       "\n",
       "   Disciplinary failure  Education  Son  Social drinker  Social smoker  Pet  \\\n",
       "0                   0.0        1.0  2.0             1.0            0.0  1.0   \n",
       "1                   1.0        1.0  1.0             1.0            0.0  0.0   \n",
       "2                   0.0        1.0  0.0             1.0            0.0  0.0   \n",
       "3                   0.0        1.0  2.0             1.0            1.0  0.0   \n",
       "4                   0.0        1.0  2.0             1.0            0.0  1.0   \n",
       "5                   0.0        1.0  0.0             1.0            0.0  0.0   \n",
       "6                   0.0        1.0  1.0             1.0            0.0  4.0   \n",
       "7                   0.0        1.0  4.0             1.0            0.0  0.0   \n",
       "8                   0.0        1.0  2.0             1.0            0.0  0.0   \n",
       "9                   0.0        3.0  1.0             0.0            0.0  1.0   \n",
       "\n",
       "   Weight  Height  Body mass index  Absenteeism time in hours  \n",
       "0    90.0   172.0             30.0                        4.0  \n",
       "1    98.0   178.0             31.0                        0.0  \n",
       "2    89.0   170.0             31.0                        2.0  \n",
       "3    68.0   168.0             24.0                        4.0  \n",
       "4    90.0   172.0             30.0                        2.0  \n",
       "5    89.0   170.0             31.0                        NaN  \n",
       "6    80.0   172.0             27.0                        8.0  \n",
       "7    65.0   168.0             23.0                        4.0  \n",
       "8    95.0   196.0             25.0                       40.0  \n",
       "9    88.0   172.0             29.0                        8.0  \n",
       "\n",
       "[10 rows x 21 columns]"
      ]
     },
     "execution_count": 99,
     "metadata": {},
     "output_type": "execute_result"
    }
   ],
   "source": [
    "data.head(10)"
   ]
  },
  {
   "cell_type": "markdown",
   "metadata": {},
   "source": [
    "# Data Exploration"
   ]
  },
  {
   "cell_type": "code",
   "execution_count": 311,
   "metadata": {
    "scrolled": false
   },
   "outputs": [
    {
     "name": "stderr",
     "output_type": "stream",
     "text": [
      "C:\\Users\\sir\\Anaconda3\\lib\\site-packages\\ggplot\\themes\\theme.py:134: RuntimeWarning: text is an invalid theme parameter\n",
      "  warnings.warn(msg, RuntimeWarning)\n"
     ]
    },
    {
     "data": {
      "image/png": "[encoded data removed]",
      "text/plain": [
       "<Figure size 792x576 with 1 Axes>"
      ]
     },
     "metadata": {},
     "output_type": "display_data"
    },
    {
     "data": {
      "text/plain": [
       "<ggplot: (117038099958)>"
      ]
     },
     "execution_count": 311,
     "metadata": {},
     "output_type": "execute_result"
    }
   ],
   "source": [
    "#Histogram for Target Variable\n",
    "ggplot(data, aes(x = 'Absenteeism time in hours')) + geom_histogram(fill=\"DarkSlateBlue\", colour = \"black\") +\\\n",
    "    geom_density() +\\\n",
    "    theme_bw() + xlab(\"Absenteeism time (hours)\") + ylab(\"Frequency\") + ggtitle(\"Target Variable Analysis\") +\\\n",
    "    theme(text=element_text(size=20))"
   ]
  },
  {
   "cell_type": "code",
   "execution_count": 83,
   "metadata": {},
   "outputs": [],
   "source": [
    "#fixing data anomalies\n",
    "data['Reason for absence'] = data['Reason for absence'].replace(0.0,np.nan)\n",
    "data['Month of absence'] = data['Month of absence'].replace(0.0,np.nan)"
   ]
  },
  {
   "cell_type": "markdown",
   "metadata": {},
   "source": [
    "# Missing Value Analysis"
   ]
  },
  {
   "cell_type": "code",
   "execution_count": 86,
   "metadata": {},
   "outputs": [],
   "source": [
    "#create dataframe with missing percentage\n",
    "missing_val=pd.DataFrame(data.isnull().sum())\n",
    "missing_val=missing_val.reset_index()\n",
    "missing_val=missing_val.rename(columns={'index':'variables',0: 'Missing %'})\n",
    "missing_val['Missing %']=(missing_val['Missing %']/len(data))*100\n",
    "missing_val=missing_val.sort_values('Missing %',ascending=False).reset_index(drop=True)\n",
    "missing_val.to_csv('Missing_%.csv',index=False)"
   ]
  },
  {
   "cell_type": "code",
   "execution_count": 87,
   "metadata": {},
   "outputs": [
    {
     "data": {
      "text/html": [
       "<div>\n",
       "<style scoped>\n",
       "    .dataframe tbody tr th:only-of-type {\n",
       "        vertical-align: middle;\n",
       "    }\n",
       "\n",
       "    .dataframe tbody tr th {\n",
       "        vertical-align: top;\n",
       "    }\n",
       "\n",
       "    .dataframe thead th {\n",
       "        text-align: right;\n",
       "    }\n",
       "</style>\n",
       "<table border=\"1\" class=\"dataframe\">\n",
       "  <thead>\n",
       "    <tr style=\"text-align: right;\">\n",
       "      <th></th>\n",
       "      <th>variables</th>\n",
       "      <th>Missing %</th>\n",
       "    </tr>\n",
       "  </thead>\n",
       "  <tbody>\n",
       "    <tr>\n",
       "      <th>0</th>\n",
       "      <td>Reason for absence</td>\n",
       "      <td>6.216216</td>\n",
       "    </tr>\n",
       "    <tr>\n",
       "      <th>1</th>\n",
       "      <td>Body mass index</td>\n",
       "      <td>4.189189</td>\n",
       "    </tr>\n",
       "    <tr>\n",
       "      <th>2</th>\n",
       "      <td>Absenteeism time in hours</td>\n",
       "      <td>2.972973</td>\n",
       "    </tr>\n",
       "    <tr>\n",
       "      <th>3</th>\n",
       "      <td>Height</td>\n",
       "      <td>1.891892</td>\n",
       "    </tr>\n",
       "    <tr>\n",
       "      <th>4</th>\n",
       "      <td>Work load Average/day</td>\n",
       "      <td>1.351351</td>\n",
       "    </tr>\n",
       "    <tr>\n",
       "      <th>5</th>\n",
       "      <td>Education</td>\n",
       "      <td>1.351351</td>\n",
       "    </tr>\n",
       "    <tr>\n",
       "      <th>6</th>\n",
       "      <td>Transportation expense</td>\n",
       "      <td>0.945946</td>\n",
       "    </tr>\n",
       "    <tr>\n",
       "      <th>7</th>\n",
       "      <td>Son</td>\n",
       "      <td>0.810811</td>\n",
       "    </tr>\n",
       "    <tr>\n",
       "      <th>8</th>\n",
       "      <td>Disciplinary failure</td>\n",
       "      <td>0.810811</td>\n",
       "    </tr>\n",
       "    <tr>\n",
       "      <th>9</th>\n",
       "      <td>Hit target</td>\n",
       "      <td>0.810811</td>\n",
       "    </tr>\n",
       "    <tr>\n",
       "      <th>10</th>\n",
       "      <td>Social smoker</td>\n",
       "      <td>0.540541</td>\n",
       "    </tr>\n",
       "    <tr>\n",
       "      <th>11</th>\n",
       "      <td>Month of absence</td>\n",
       "      <td>0.540541</td>\n",
       "    </tr>\n",
       "    <tr>\n",
       "      <th>12</th>\n",
       "      <td>Age</td>\n",
       "      <td>0.405405</td>\n",
       "    </tr>\n",
       "    <tr>\n",
       "      <th>13</th>\n",
       "      <td>Service time</td>\n",
       "      <td>0.405405</td>\n",
       "    </tr>\n",
       "    <tr>\n",
       "      <th>14</th>\n",
       "      <td>Distance from Residence to Work</td>\n",
       "      <td>0.405405</td>\n",
       "    </tr>\n",
       "    <tr>\n",
       "      <th>15</th>\n",
       "      <td>Social drinker</td>\n",
       "      <td>0.405405</td>\n",
       "    </tr>\n",
       "    <tr>\n",
       "      <th>16</th>\n",
       "      <td>Pet</td>\n",
       "      <td>0.270270</td>\n",
       "    </tr>\n",
       "    <tr>\n",
       "      <th>17</th>\n",
       "      <td>Weight</td>\n",
       "      <td>0.135135</td>\n",
       "    </tr>\n",
       "    <tr>\n",
       "      <th>18</th>\n",
       "      <td>Seasons</td>\n",
       "      <td>0.000000</td>\n",
       "    </tr>\n",
       "    <tr>\n",
       "      <th>19</th>\n",
       "      <td>Day of the week</td>\n",
       "      <td>0.000000</td>\n",
       "    </tr>\n",
       "    <tr>\n",
       "      <th>20</th>\n",
       "      <td>ID</td>\n",
       "      <td>0.000000</td>\n",
       "    </tr>\n",
       "  </tbody>\n",
       "</table>\n",
       "</div>"
      ],
      "text/plain": [
       "                          variables  Missing %\n",
       "0                Reason for absence   6.216216\n",
       "1                   Body mass index   4.189189\n",
       "2         Absenteeism time in hours   2.972973\n",
       "3                            Height   1.891892\n",
       "4            Work load Average/day    1.351351\n",
       "5                         Education   1.351351\n",
       "6            Transportation expense   0.945946\n",
       "7                               Son   0.810811\n",
       "8              Disciplinary failure   0.810811\n",
       "9                        Hit target   0.810811\n",
       "10                    Social smoker   0.540541\n",
       "11                 Month of absence   0.540541\n",
       "12                              Age   0.405405\n",
       "13                     Service time   0.405405\n",
       "14  Distance from Residence to Work   0.405405\n",
       "15                   Social drinker   0.405405\n",
       "16                              Pet   0.270270\n",
       "17                           Weight   0.135135\n",
       "18                          Seasons   0.000000\n",
       "19                  Day of the week   0.000000\n",
       "20                               ID   0.000000"
      ]
     },
     "execution_count": 87,
     "metadata": {},
     "output_type": "execute_result"
    }
   ],
   "source": [
    "missing_val"
   ]
  },
  {
   "cell_type": "code",
   "execution_count": 95,
   "metadata": {},
   "outputs": [
    {
     "name": "stderr",
     "output_type": "stream",
     "text": [
      "C:\\Users\\sir\\Anaconda3\\lib\\site-packages\\pandas\\core\\indexing.py:189: SettingWithCopyWarning: \n",
      "A value is trying to be set on a copy of a slice from a DataFrame\n",
      "\n",
      "See the caveats in the documentation: http://pandas.pydata.org/pandas-docs/stable/indexing.html#indexing-view-versus-copy\n",
      "  self._setitem_with_indexer(indexer, value)\n"
     ]
    }
   ],
   "source": [
    "#imputation method\n",
    "data['Height'].loc[129]\n",
    "#Actual value = 171\n",
    "#create missing value\n",
    "data['Height'].loc[129]=np.nan"
   ]
  },
  {
   "cell_type": "code",
   "execution_count": 97,
   "metadata": {},
   "outputs": [
    {
     "data": {
      "text/plain": [
       "172.1544827586207"
      ]
     },
     "execution_count": 97,
     "metadata": {},
     "output_type": "execute_result"
    }
   ],
   "source": [
    "#impute with mean\n",
    "data['Height'] = data['Height'].fillna(data['Height'].mean())\n",
    "data['Height'].loc[129]\n",
    "#mean value = 172.154"
   ]
  },
  {
   "cell_type": "code",
   "execution_count": 201,
   "metadata": {},
   "outputs": [],
   "source": [
    "#reload data\n",
    "data = pd.read_excel(\"Absenteeism_at_work_Project.xls\")\n",
    "data['Reason for absence'] = data['Reason for absence'].replace(0.0,np.nan)\n",
    "data['Month of absence'] = data['Month of absence'].replace(0.0,np.nan)"
   ]
  },
  {
   "cell_type": "code",
   "execution_count": 202,
   "metadata": {},
   "outputs": [
    {
     "name": "stderr",
     "output_type": "stream",
     "text": [
      "C:\\Users\\sir\\Anaconda3\\lib\\site-packages\\pandas\\core\\indexing.py:189: SettingWithCopyWarning: \n",
      "A value is trying to be set on a copy of a slice from a DataFrame\n",
      "\n",
      "See the caveats in the documentation: http://pandas.pydata.org/pandas-docs/stable/indexing.html#indexing-view-versus-copy\n",
      "  self._setitem_with_indexer(indexer, value)\n"
     ]
    },
    {
     "data": {
      "text/plain": [
       "170.0"
      ]
     },
     "execution_count": 202,
     "metadata": {},
     "output_type": "execute_result"
    }
   ],
   "source": [
    "#impute with median\n",
    "data['Height'].loc[129]=np.nan\n",
    "data['Height'] = data['Height'].fillna(data['Height'].median())\n",
    "data['Height'].loc[129]\n",
    "#median value = 170.0"
   ]
  },
  {
   "cell_type": "code",
   "execution_count": 210,
   "metadata": {},
   "outputs": [],
   "source": [
    "#reload data\n",
    "data = pd.read_excel(\"Absenteeism_at_work_Project.xls\")\n",
    "data['Reason for absence'] = data['Reason for absence'].replace(0.0,np.nan)\n",
    "data['Month of absence'] = data['Month of absence'].replace(0.0,np.nan)"
   ]
  },
  {
   "cell_type": "code",
   "execution_count": 211,
   "metadata": {},
   "outputs": [
    {
     "name": "stdout",
     "output_type": "stream",
     "text": [
      "Imputing row 1/740 with 0 missing, elapsed time: 0.167\n",
      "Imputing row 101/740 with 1 missing, elapsed time: 0.169\n",
      "Imputing row 201/740 with 0 missing, elapsed time: 0.170\n",
      "Imputing row 301/740 with 1 missing, elapsed time: 0.172\n",
      "Imputing row 401/740 with 1 missing, elapsed time: 0.173\n",
      "Imputing row 501/740 with 0 missing, elapsed time: 0.174\n",
      "Imputing row 601/740 with 0 missing, elapsed time: 0.175\n",
      "Imputing row 701/740 with 0 missing, elapsed time: 0.176\n"
     ]
    },
    {
     "name": "stderr",
     "output_type": "stream",
     "text": [
      "C:\\Users\\sir\\Anaconda3\\lib\\site-packages\\pandas\\core\\indexing.py:189: SettingWithCopyWarning: \n",
      "A value is trying to be set on a copy of a slice from a DataFrame\n",
      "\n",
      "See the caveats in the documentation: http://pandas.pydata.org/pandas-docs/stable/indexing.html#indexing-view-versus-copy\n",
      "  self._setitem_with_indexer(indexer, value)\n"
     ]
    }
   ],
   "source": [
    "#impute with KNN\n",
    "#since we have all data in numeric, we can apply KNN.\n",
    "data.dtypes\n",
    "data['Height'].loc[129]=np.nan\n",
    "data = pd.DataFrame(KNN(21).fit_transform(data),columns=data.columns)\n",
    "#KNN value = 170.73 , closest to 171. so we freeze this method."
   ]
  },
  {
   "cell_type": "code",
   "execution_count": 212,
   "metadata": {},
   "outputs": [
    {
     "data": {
      "text/html": [
       "<div>\n",
       "<style scoped>\n",
       "    .dataframe tbody tr th:only-of-type {\n",
       "        vertical-align: middle;\n",
       "    }\n",
       "\n",
       "    .dataframe tbody tr th {\n",
       "        vertical-align: top;\n",
       "    }\n",
       "\n",
       "    .dataframe thead th {\n",
       "        text-align: right;\n",
       "    }\n",
       "</style>\n",
       "<table border=\"1\" class=\"dataframe\">\n",
       "  <thead>\n",
       "    <tr style=\"text-align: right;\">\n",
       "      <th></th>\n",
       "      <th>0</th>\n",
       "    </tr>\n",
       "  </thead>\n",
       "  <tbody>\n",
       "    <tr>\n",
       "      <th>ID</th>\n",
       "      <td>0</td>\n",
       "    </tr>\n",
       "    <tr>\n",
       "      <th>Reason for absence</th>\n",
       "      <td>0</td>\n",
       "    </tr>\n",
       "    <tr>\n",
       "      <th>Month of absence</th>\n",
       "      <td>0</td>\n",
       "    </tr>\n",
       "    <tr>\n",
       "      <th>Day of the week</th>\n",
       "      <td>0</td>\n",
       "    </tr>\n",
       "    <tr>\n",
       "      <th>Seasons</th>\n",
       "      <td>0</td>\n",
       "    </tr>\n",
       "    <tr>\n",
       "      <th>Transportation expense</th>\n",
       "      <td>0</td>\n",
       "    </tr>\n",
       "    <tr>\n",
       "      <th>Distance from Residence to Work</th>\n",
       "      <td>0</td>\n",
       "    </tr>\n",
       "    <tr>\n",
       "      <th>Service time</th>\n",
       "      <td>0</td>\n",
       "    </tr>\n",
       "    <tr>\n",
       "      <th>Age</th>\n",
       "      <td>0</td>\n",
       "    </tr>\n",
       "    <tr>\n",
       "      <th>Work load Average day</th>\n",
       "      <td>0</td>\n",
       "    </tr>\n",
       "    <tr>\n",
       "      <th>Hit target</th>\n",
       "      <td>0</td>\n",
       "    </tr>\n",
       "    <tr>\n",
       "      <th>Disciplinary failure</th>\n",
       "      <td>0</td>\n",
       "    </tr>\n",
       "    <tr>\n",
       "      <th>Education</th>\n",
       "      <td>0</td>\n",
       "    </tr>\n",
       "    <tr>\n",
       "      <th>Son</th>\n",
       "      <td>0</td>\n",
       "    </tr>\n",
       "    <tr>\n",
       "      <th>Social drinker</th>\n",
       "      <td>0</td>\n",
       "    </tr>\n",
       "    <tr>\n",
       "      <th>Social smoker</th>\n",
       "      <td>0</td>\n",
       "    </tr>\n",
       "    <tr>\n",
       "      <th>Pet</th>\n",
       "      <td>0</td>\n",
       "    </tr>\n",
       "    <tr>\n",
       "      <th>Weight</th>\n",
       "      <td>0</td>\n",
       "    </tr>\n",
       "    <tr>\n",
       "      <th>Height</th>\n",
       "      <td>0</td>\n",
       "    </tr>\n",
       "    <tr>\n",
       "      <th>Body mass index</th>\n",
       "      <td>0</td>\n",
       "    </tr>\n",
       "    <tr>\n",
       "      <th>Absenteeism time in hours</th>\n",
       "      <td>0</td>\n",
       "    </tr>\n",
       "  </tbody>\n",
       "</table>\n",
       "</div>"
      ],
      "text/plain": [
       "                                 0\n",
       "ID                               0\n",
       "Reason for absence               0\n",
       "Month of absence                 0\n",
       "Day of the week                  0\n",
       "Seasons                          0\n",
       "Transportation expense           0\n",
       "Distance from Residence to Work  0\n",
       "Service time                     0\n",
       "Age                              0\n",
       "Work load Average day            0\n",
       "Hit target                       0\n",
       "Disciplinary failure             0\n",
       "Education                        0\n",
       "Son                              0\n",
       "Social drinker                   0\n",
       "Social smoker                    0\n",
       "Pet                              0\n",
       "Weight                           0\n",
       "Height                           0\n",
       "Body mass index                  0\n",
       "Absenteeism time in hours        0"
      ]
     },
     "execution_count": 212,
     "metadata": {},
     "output_type": "execute_result"
    }
   ],
   "source": [
    "#to verify\n",
    "pd.DataFrame(data.isnull().sum())"
   ]
  },
  {
   "cell_type": "markdown",
   "metadata": {},
   "source": [
    "# Outlier Analysis"
   ]
  },
  {
   "cell_type": "code",
   "execution_count": 315,
   "metadata": {},
   "outputs": [
    {
     "data": {
      "text/plain": [
       "{'whiskers': [<matplotlib.lines.Line2D at 0x1b4008f40f0>,\n",
       "  <matplotlib.lines.Line2D at 0x1b4008f4588>],\n",
       " 'caps': [<matplotlib.lines.Line2D at 0x1b4008f49b0>,\n",
       "  <matplotlib.lines.Line2D at 0x1b4008f4dd8>],\n",
       " 'boxes': [<matplotlib.lines.Line2D at 0x1b4008eaf60>],\n",
       " 'medians': [<matplotlib.lines.Line2D at 0x1b4008fc240>],\n",
       " 'fliers': [<matplotlib.lines.Line2D at 0x1b4008fc668>],\n",
       " 'means': []}"
      ]
     },
     "execution_count": 315,
     "metadata": {},
     "output_type": "execute_result"
    },
    {
     "data": {
      "image/png": "[encoded data removed]",
      "text/plain": [
       "<Figure size 432x288 with 1 Axes>"
      ]
     },
     "metadata": {},
     "output_type": "display_data"
    }
   ],
   "source": [
    "#Plot boxplot to visualize Outliers\n",
    "%matplotlib inline  \n",
    "plt.boxplot(data['Absenteeism time in hours'])"
   ]
  },
  {
   "cell_type": "code",
   "execution_count": 213,
   "metadata": {},
   "outputs": [],
   "source": [
    "#save numeric names\n",
    "cnames = [\"Transportation expense\", \"Distance from Residence to Work\", \"Service time\", \"Age\", \"Work load Average day\", \"Hit target\",\"Son\", \"Pet\", \"Weight\", \"Height\", \"Body mass index\"]"
   ]
  },
  {
   "cell_type": "code",
   "execution_count": 214,
   "metadata": {},
   "outputs": [
    {
     "name": "stdout",
     "output_type": "stream",
     "text": [
      "Transportation expense\n",
      "57.5\n",
      "381.5\n",
      "Imputing row 1/740 with 0 missing, elapsed time: 0.169\n",
      "Imputing row 101/740 with 0 missing, elapsed time: 0.169\n",
      "Imputing row 201/740 with 0 missing, elapsed time: 0.171\n",
      "Imputing row 301/740 with 0 missing, elapsed time: 0.171\n",
      "Imputing row 401/740 with 0 missing, elapsed time: 0.172\n",
      "Imputing row 501/740 with 0 missing, elapsed time: 0.172\n",
      "Imputing row 601/740 with 0 missing, elapsed time: 0.172\n",
      "Imputing row 701/740 with 0 missing, elapsed time: 0.172\n",
      "Distance from Residence to Work\n",
      "-35.0\n",
      "101.0\n",
      "Imputing row 1/740 with 0 missing, elapsed time: 0.155\n",
      "Imputing row 101/740 with 0 missing, elapsed time: 0.156\n",
      "Imputing row 201/740 with 0 missing, elapsed time: 0.156\n",
      "Imputing row 301/740 with 0 missing, elapsed time: 0.156\n",
      "Imputing row 401/740 with 0 missing, elapsed time: 0.157\n",
      "Imputing row 501/740 with 0 missing, elapsed time: 0.157\n",
      "Imputing row 601/740 with 0 missing, elapsed time: 0.157\n",
      "Imputing row 701/740 with 0 missing, elapsed time: 0.157\n",
      "Service time\n",
      "-1.5\n",
      "26.5\n"
     ]
    },
    {
     "name": "stderr",
     "output_type": "stream",
     "text": [
      "C:\\Users\\sir\\Anaconda3\\lib\\site-packages\\fancyimpute\\solver.py:58: UserWarning: Input matrix is not missing any values\n",
      "  warnings.warn(\"Input matrix is not missing any values\")\n"
     ]
    },
    {
     "name": "stdout",
     "output_type": "stream",
     "text": [
      "Imputing row 1/740 with 0 missing, elapsed time: 0.161\n",
      "Imputing row 101/740 with 0 missing, elapsed time: 0.162\n",
      "Imputing row 201/740 with 0 missing, elapsed time: 0.162\n",
      "Imputing row 301/740 with 0 missing, elapsed time: 0.163\n",
      "Imputing row 401/740 with 0 missing, elapsed time: 0.163\n",
      "Imputing row 501/740 with 0 missing, elapsed time: 0.163\n",
      "Imputing row 601/740 with 0 missing, elapsed time: 0.166\n",
      "Imputing row 701/740 with 0 missing, elapsed time: 0.166\n",
      "Age\n",
      "17.5\n",
      "53.5\n",
      "Imputing row 1/740 with 0 missing, elapsed time: 0.154\n",
      "Imputing row 101/740 with 0 missing, elapsed time: 0.155\n",
      "Imputing row 201/740 with 0 missing, elapsed time: 0.155\n",
      "Imputing row 301/740 with 0 missing, elapsed time: 0.156\n",
      "Imputing row 401/740 with 0 missing, elapsed time: 0.156\n",
      "Imputing row 501/740 with 0 missing, elapsed time: 0.158\n",
      "Imputing row 601/740 with 0 missing, elapsed time: 0.159\n",
      "Imputing row 701/740 with 0 missing, elapsed time: 0.160\n",
      "Work load Average day\n",
      "183688.0\n",
      "345552.0\n",
      "Imputing row 1/740 with 0 missing, elapsed time: 0.159\n",
      "Imputing row 101/740 with 0 missing, elapsed time: 0.160\n",
      "Imputing row 201/740 with 0 missing, elapsed time: 0.160\n",
      "Imputing row 301/740 with 0 missing, elapsed time: 0.167\n",
      "Imputing row 401/740 with 0 missing, elapsed time: 0.167\n",
      "Imputing row 501/740 with 0 missing, elapsed time: 0.168\n",
      "Imputing row 601/740 with 0 missing, elapsed time: 0.168\n",
      "Imputing row 701/740 with 0 missing, elapsed time: 0.168\n",
      "Hit target\n",
      "87.0\n",
      "103.0\n",
      "Imputing row 1/740 with 0 missing, elapsed time: 0.156\n",
      "Imputing row 101/740 with 0 missing, elapsed time: 0.156\n",
      "Imputing row 201/740 with 0 missing, elapsed time: 0.156\n",
      "Imputing row 301/740 with 0 missing, elapsed time: 0.169\n",
      "Imputing row 401/740 with 0 missing, elapsed time: 0.170\n",
      "Imputing row 501/740 with 0 missing, elapsed time: 0.171\n",
      "Imputing row 601/740 with 0 missing, elapsed time: 0.172\n",
      "Imputing row 701/740 with 0 missing, elapsed time: 0.173\n",
      "Son\n",
      "-3.0\n",
      "5.0\n",
      "Imputing row 1/740 with 0 missing, elapsed time: 0.151\n",
      "Imputing row 101/740 with 0 missing, elapsed time: 0.152\n",
      "Imputing row 201/740 with 0 missing, elapsed time: 0.152\n",
      "Imputing row 301/740 with 0 missing, elapsed time: 0.152\n",
      "Imputing row 401/740 with 0 missing, elapsed time: 0.153\n",
      "Imputing row 501/740 with 0 missing, elapsed time: 0.153\n",
      "Imputing row 601/740 with 0 missing, elapsed time: 0.153\n",
      "Imputing row 701/740 with 0 missing, elapsed time: 0.154\n",
      "Pet\n",
      "-1.5\n",
      "2.5\n"
     ]
    },
    {
     "name": "stderr",
     "output_type": "stream",
     "text": [
      "C:\\Users\\sir\\Anaconda3\\lib\\site-packages\\fancyimpute\\solver.py:58: UserWarning: Input matrix is not missing any values\n",
      "  warnings.warn(\"Input matrix is not missing any values\")\n"
     ]
    },
    {
     "name": "stdout",
     "output_type": "stream",
     "text": [
      "Imputing row 1/740 with 0 missing, elapsed time: 0.170\n",
      "Imputing row 101/740 with 0 missing, elapsed time: 0.173\n",
      "Imputing row 201/740 with 17 missing, elapsed time: 0.174\n",
      "Imputing row 301/740 with 0 missing, elapsed time: 0.178\n",
      "Imputing row 401/740 with 0 missing, elapsed time: 0.180\n",
      "Imputing row 501/740 with 0 missing, elapsed time: 0.181\n",
      "Imputing row 601/740 with 0 missing, elapsed time: 0.184\n",
      "Imputing row 701/740 with 0 missing, elapsed time: 0.186\n",
      "Weight\n",
      "39.0\n",
      "119.0\n",
      "Imputing row 1/740 with 0 missing, elapsed time: 0.153\n",
      "Imputing row 101/740 with 0 missing, elapsed time: 0.153\n",
      "Imputing row 201/740 with 0 missing, elapsed time: 0.153\n",
      "Imputing row 301/740 with 0 missing, elapsed time: 0.154\n",
      "Imputing row 401/740 with 0 missing, elapsed time: 0.154\n",
      "Imputing row 501/740 with 0 missing, elapsed time: 0.154\n",
      "Imputing row 601/740 with 0 missing, elapsed time: 0.155\n",
      "Imputing row 701/740 with 0 missing, elapsed time: 0.155\n"
     ]
    },
    {
     "name": "stderr",
     "output_type": "stream",
     "text": [
      "C:\\Users\\sir\\Anaconda3\\lib\\site-packages\\fancyimpute\\solver.py:58: UserWarning: Input matrix is not missing any values\n",
      "  warnings.warn(\"Input matrix is not missing any values\")\n"
     ]
    },
    {
     "name": "stdout",
     "output_type": "stream",
     "text": [
      "Height\n",
      "164.5\n",
      "176.5\n",
      "Imputing row 1/740 with 0 missing, elapsed time: 0.182\n",
      "Imputing row 101/740 with 19 missing, elapsed time: 0.188\n",
      "Imputing row 201/740 with 0 missing, elapsed time: 0.199\n",
      "Imputing row 301/740 with 0 missing, elapsed time: 0.208\n",
      "Imputing row 401/740 with 0 missing, elapsed time: 0.214\n",
      "Imputing row 501/740 with 0 missing, elapsed time: 0.221\n",
      "Imputing row 601/740 with 0 missing, elapsed time: 0.225\n",
      "Imputing row 701/740 with 0 missing, elapsed time: 0.233\n",
      "Body mass index\n",
      "13.5\n",
      "41.5\n",
      "Imputing row 1/740 with 0 missing, elapsed time: 0.159\n",
      "Imputing row 101/740 with 0 missing, elapsed time: 0.160\n",
      "Imputing row 201/740 with 0 missing, elapsed time: 0.160\n",
      "Imputing row 301/740 with 0 missing, elapsed time: 0.160\n",
      "Imputing row 401/740 with 0 missing, elapsed time: 0.160\n",
      "Imputing row 501/740 with 0 missing, elapsed time: 0.161\n",
      "Imputing row 601/740 with 0 missing, elapsed time: 0.161\n",
      "Imputing row 701/740 with 0 missing, elapsed time: 0.162\n"
     ]
    },
    {
     "name": "stderr",
     "output_type": "stream",
     "text": [
      "C:\\Users\\sir\\Anaconda3\\lib\\site-packages\\fancyimpute\\solver.py:58: UserWarning: Input matrix is not missing any values\n",
      "  warnings.warn(\"Input matrix is not missing any values\")\n"
     ]
    }
   ],
   "source": [
    "#Detect and delete outliers from data\n",
    "for i in cnames:\n",
    "     print(i)\n",
    "     q75, q25 = np.percentile(data.loc[:,i], [75 ,25])\n",
    "     iqr = q75 - q25\n",
    "\n",
    "     min = q25 - (iqr*1.5)\n",
    "     max = q75 + (iqr*1.5)\n",
    "     print(min)\n",
    "     print(max)\n",
    "        \n",
    "     #Replace with NA\n",
    "     data.loc[data[i] < min,:i] = np.nan\n",
    "     data.loc[data[i] > max,:i] = np.nan\n",
    "\n",
    "     #Calculate missing value\n",
    "     pd.DataFrame(data.isnull().sum())\n",
    "\n",
    "     #Impute with KNN\n",
    "     data = pd.DataFrame(KNN(21).fit_transform(data), columns = data.columns)\n",
    "     "
   ]
  },
  {
   "cell_type": "markdown",
   "metadata": {},
   "source": [
    "# Feature Selection"
   ]
  },
  {
   "cell_type": "code",
   "execution_count": 226,
   "metadata": {},
   "outputs": [
    {
     "name": "stderr",
     "output_type": "stream",
     "text": [
      "C:\\Users\\sir\\Anaconda3\\lib\\site-packages\\seaborn\\palettes.py:727: DeprecationWarning: object of type <class 'float'> cannot be safely interpreted as an integer.\n",
      "  pal = _ColorPalette(pal(np.linspace(0, 1, n_colors)))\n",
      "C:\\Users\\sir\\Anaconda3\\lib\\site-packages\\seaborn\\palettes.py:727: DeprecationWarning: object of type <class 'float'> cannot be safely interpreted as an integer.\n",
      "  pal = _ColorPalette(pal(np.linspace(0, 1, n_colors)))\n"
     ]
    },
    {
     "data": {
      "text/plain": [
       "<matplotlib.axes._subplots.AxesSubplot at 0x1b47a701780>"
      ]
     },
     "execution_count": 226,
     "metadata": {},
     "output_type": "execute_result"
    },
    {
     "data": {
      "image/png": "[encoded data removed]",
      "text/plain": [
       "<Figure size 504x360 with 2 Axes>"
      ]
     },
     "metadata": {},
     "output_type": "display_data"
    }
   ],
   "source": [
    "##Correlation analysis\n",
    "#Correlation plot\n",
    "df_corr = data.loc[:,cnames]\n",
    "#Set the width and height of the plot\n",
    "f, ax = plt.subplots(figsize=(7, 5))\n",
    "\n",
    "#Generate correlation matrix\n",
    "corr = df_corr.corr()\n",
    "\n",
    "#Plot using seaborn library\n",
    "sns.heatmap(corr, mask=np.zeros_like(corr, dtype=np.bool), cmap=sns.diverging_palette(220, 10, as_cmap=True),\n",
    "            square=True, ax=ax)"
   ]
  },
  {
   "cell_type": "code",
   "execution_count": 233,
   "metadata": {},
   "outputs": [
    {
     "name": "stdout",
     "output_type": "stream",
     "text": [
      "ID\n",
      "0.0\n",
      "Reason for absence\n",
      "0.0\n",
      "Month of absence\n",
      "0.0\n",
      "Day of the week\n",
      "0.0\n",
      "Seasons\n",
      "0.0\n",
      "Disciplinary failure\n",
      "7.979384467185031e-140\n",
      "Education\n",
      "0.0\n",
      "Social drinker\n",
      "0.0\n",
      "Social smoker\n",
      "0.0\n"
     ]
    }
   ],
   "source": [
    "#Chisquare test of independence\n",
    "#Save categorical variables\n",
    "cat_names = ['ID', 'Reason for absence', 'Month of absence', 'Day of the week',\n",
    "       'Seasons','Disciplinary failure', 'Education','Social drinker',\n",
    "       'Social smoker']\n",
    "#loop for chi square values\n",
    "for i in cat_names:\n",
    "    print(i)\n",
    "    chi2, p, dof, ex = chi2_contingency(pd.crosstab(data['Absenteeism time in hours'], data[i]))\n",
    "    print(p)"
   ]
  },
  {
   "cell_type": "code",
   "execution_count": 236,
   "metadata": {},
   "outputs": [],
   "source": [
    "data = data.drop(['Body mass index'], axis=1)"
   ]
  },
  {
   "cell_type": "markdown",
   "metadata": {},
   "source": [
    "# Feature Scaling"
   ]
  },
  {
   "cell_type": "code",
   "execution_count": 238,
   "metadata": {},
   "outputs": [
    {
     "data": {
      "text/plain": [
       "(array([ 24.,   1.,   0.,  38.,   6.,  47.,   3., 101.,   4., 218.,  15.,\n",
       "         84.,  22., 158.,   3.,   0.,   0.,   8.,   8.]),\n",
       " array([165.        , 165.52631579, 166.05263158, 166.57894737,\n",
       "        167.10526316, 167.63157895, 168.15789474, 168.68421053,\n",
       "        169.21052632, 169.73684211, 170.26315789, 170.78947368,\n",
       "        171.31578947, 171.84210526, 172.36842105, 172.89473684,\n",
       "        173.42105263, 173.94736842, 174.47368421, 175.        ]),\n",
       " <a list of 19 Patch objects>)"
      ]
     },
     "execution_count": 238,
     "metadata": {},
     "output_type": "execute_result"
    },
    {
     "data": {
      "image/png": "[encoded data removed]",
      "text/plain": [
       "<Figure size 432x288 with 1 Axes>"
      ]
     },
     "metadata": {},
     "output_type": "display_data"
    }
   ],
   "source": [
    "#Normality check\n",
    "%matplotlib inline  \n",
    "plt.hist(data['Height'], bins='auto')"
   ]
  },
  {
   "cell_type": "code",
   "execution_count": 249,
   "metadata": {},
   "outputs": [
    {
     "name": "stdout",
     "output_type": "stream",
     "text": [
      "Transportation expense\n",
      "Distance from Residence to Work\n",
      "Service time\n",
      "Age\n",
      "Work load Average day\n",
      "Hit target\n",
      "Son\n",
      "Pet\n",
      "Weight\n",
      "Height\n"
     ]
    }
   ],
   "source": [
    "cnames = [\"Transportation expense\", \"Distance from Residence to Work\", \"Service time\", \"Age\", \"Work load Average day\", \n",
    "          \"Hit target\",\"Son\", \"Pet\", \"Weight\", \"Height\"]\n",
    "#Nomalisation\n",
    "for i in cnames:\n",
    "    print(i)\n",
    "    data[i] = (data[i] - data[i].min())/(data[i].max() - data[i].min())"
   ]
  },
  {
   "cell_type": "markdown",
   "metadata": {},
   "source": [
    "# Model Development"
   ]
  },
  {
   "cell_type": "code",
   "execution_count": 276,
   "metadata": {},
   "outputs": [],
   "source": [
    "#Data Sampling\n",
    "nrow= len(data.index)\n",
    "train, test = train_test_split(data, test_size = 0.2)"
   ]
  },
  {
   "cell_type": "code",
   "execution_count": 277,
   "metadata": {},
   "outputs": [
    {
     "data": {
      "text/plain": [
       "(592, 20)"
      ]
     },
     "execution_count": 277,
     "metadata": {},
     "output_type": "execute_result"
    }
   ],
   "source": [
    "train.shape"
   ]
  },
  {
   "cell_type": "code",
   "execution_count": 256,
   "metadata": {},
   "outputs": [
    {
     "data": {
      "text/plain": [
       "(148, 20)"
      ]
     },
     "execution_count": 256,
     "metadata": {},
     "output_type": "execute_result"
    }
   ],
   "source": [
    "test.shape"
   ]
  },
  {
   "cell_type": "code",
   "execution_count": 278,
   "metadata": {},
   "outputs": [],
   "source": [
    "#####Decision Tree Algortithm\n",
    "from sklearn.tree import DecisionTreeRegressor\n",
    "fit_dt= DecisionTreeRegressor(max_depth=2).fit(train.iloc[:,0:19],train.iloc[:,19])"
   ]
  },
  {
   "cell_type": "code",
   "execution_count": 279,
   "metadata": {},
   "outputs": [
    {
     "data": {
      "text/plain": [
       "DecisionTreeRegressor(criterion='mse', max_depth=2, max_features=None,\n",
       "           max_leaf_nodes=None, min_impurity_decrease=0.0,\n",
       "           min_impurity_split=None, min_samples_leaf=1,\n",
       "           min_samples_split=2, min_weight_fraction_leaf=0.0,\n",
       "           presort=False, random_state=None, splitter='best')"
      ]
     },
     "execution_count": 279,
     "metadata": {},
     "output_type": "execute_result"
    }
   ],
   "source": [
    "fit_dt"
   ]
  },
  {
   "cell_type": "code",
   "execution_count": 280,
   "metadata": {},
   "outputs": [],
   "source": [
    "predict_dt= fit_dt.predict(test.iloc[:,0:19])"
   ]
  },
  {
   "cell_type": "code",
   "execution_count": 281,
   "metadata": {},
   "outputs": [],
   "source": [
    "#Calculate RMSE\n",
    "def RMSE(actual, pred):\n",
    "    return np.sqrt(((pred - actual) ** 2).mean())"
   ]
  },
  {
   "cell_type": "code",
   "execution_count": 282,
   "metadata": {},
   "outputs": [
    {
     "data": {
      "text/plain": [
       "13.009041545395686"
      ]
     },
     "execution_count": 282,
     "metadata": {},
     "output_type": "execute_result"
    }
   ],
   "source": [
    "RMSE(test.iloc[:,19],predict_dt)\n",
    "#output = 13.009041545395686"
   ]
  },
  {
   "cell_type": "code",
   "execution_count": 283,
   "metadata": {},
   "outputs": [],
   "source": [
    "######Random Forest Algorithm\n",
    "from sklearn.ensemble import RandomForestRegressor"
   ]
  },
  {
   "cell_type": "code",
   "execution_count": 284,
   "metadata": {},
   "outputs": [],
   "source": [
    "fit_rf = RandomForestRegressor(n_estimators = 100, random_state = 99).fit(train.iloc[:,0:19],train.iloc[:,19])"
   ]
  },
  {
   "cell_type": "code",
   "execution_count": 285,
   "metadata": {},
   "outputs": [
    {
     "data": {
      "text/plain": [
       "RandomForestRegressor(bootstrap=True, criterion='mse', max_depth=None,\n",
       "           max_features='auto', max_leaf_nodes=None,\n",
       "           min_impurity_decrease=0.0, min_impurity_split=None,\n",
       "           min_samples_leaf=1, min_samples_split=2,\n",
       "           min_weight_fraction_leaf=0.0, n_estimators=100, n_jobs=1,\n",
       "           oob_score=False, random_state=99, verbose=0, warm_start=False)"
      ]
     },
     "execution_count": 285,
     "metadata": {},
     "output_type": "execute_result"
    }
   ],
   "source": [
    "fit_rf"
   ]
  },
  {
   "cell_type": "code",
   "execution_count": 286,
   "metadata": {},
   "outputs": [],
   "source": [
    "predict_rf= fit_rf.predict(test.iloc[:,0:19])"
   ]
  },
  {
   "cell_type": "code",
   "execution_count": 287,
   "metadata": {},
   "outputs": [
    {
     "data": {
      "text/plain": [
       "10.168282568103772"
      ]
     },
     "execution_count": 287,
     "metadata": {},
     "output_type": "execute_result"
    }
   ],
   "source": [
    "RMSE(test.iloc[:,19],predict_rf)\n",
    "#output = 10.168282568103772"
   ]
  },
  {
   "cell_type": "code",
   "execution_count": 290,
   "metadata": {},
   "outputs": [
    {
     "data": {
      "text/html": [
       "<table class=\"simpletable\">\n",
       "<caption>OLS Regression Results</caption>\n",
       "<tr>\n",
       "  <th>Dep. Variable:</th>    <td>Absenteeism time in hours</td> <th>  R-squared:         </th> <td>   0.323</td>\n",
       "</tr>\n",
       "<tr>\n",
       "  <th>Model:</th>                       <td>OLS</td>            <th>  Adj. R-squared:    </th> <td>   0.301</td>\n",
       "</tr>\n",
       "<tr>\n",
       "  <th>Method:</th>                 <td>Least Squares</td>       <th>  F-statistic:       </th> <td>   14.41</td>\n",
       "</tr>\n",
       "<tr>\n",
       "  <th>Date:</th>                 <td>Sat, 01 Dec 2018</td>      <th>  Prob (F-statistic):</th> <td>1.35e-37</td>\n",
       "</tr>\n",
       "<tr>\n",
       "  <th>Time:</th>                     <td>15:31:34</td>          <th>  Log-Likelihood:    </th> <td> -2322.4</td>\n",
       "</tr>\n",
       "<tr>\n",
       "  <th>No. Observations:</th>          <td>   592</td>           <th>  AIC:               </th> <td>   4683.</td>\n",
       "</tr>\n",
       "<tr>\n",
       "  <th>Df Residuals:</th>              <td>   573</td>           <th>  BIC:               </th> <td>   4766.</td>\n",
       "</tr>\n",
       "<tr>\n",
       "  <th>Df Model:</th>                  <td>    19</td>           <th>                     </th>     <td> </td>   \n",
       "</tr>\n",
       "<tr>\n",
       "  <th>Covariance Type:</th>          <td>nonrobust</td>         <th>                     </th>     <td> </td>   \n",
       "</tr>\n",
       "</table>\n",
       "<table class=\"simpletable\">\n",
       "<tr>\n",
       "                 <td></td>                    <th>coef</th>     <th>std err</th>      <th>t</th>      <th>P>|t|</th>  <th>[0.025</th>    <th>0.975]</th>  \n",
       "</tr>\n",
       "<tr>\n",
       "  <th>ID</th>                              <td>    0.0785</td> <td>    0.083</td> <td>    0.943</td> <td> 0.346</td> <td>   -0.085</td> <td>    0.242</td>\n",
       "</tr>\n",
       "<tr>\n",
       "  <th>Reason for absence</th>              <td>   -0.4477</td> <td>    0.085</td> <td>   -5.252</td> <td> 0.000</td> <td>   -0.615</td> <td>   -0.280</td>\n",
       "</tr>\n",
       "<tr>\n",
       "  <th>Month of absence</th>                <td>    0.1991</td> <td>    0.214</td> <td>    0.929</td> <td> 0.353</td> <td>   -0.222</td> <td>    0.620</td>\n",
       "</tr>\n",
       "<tr>\n",
       "  <th>Day of the week</th>                 <td>   -1.2039</td> <td>    0.427</td> <td>   -2.818</td> <td> 0.005</td> <td>   -2.043</td> <td>   -0.365</td>\n",
       "</tr>\n",
       "<tr>\n",
       "  <th>Seasons</th>                         <td>   -0.0391</td> <td>    0.613</td> <td>   -0.064</td> <td> 0.949</td> <td>   -1.242</td> <td>    1.164</td>\n",
       "</tr>\n",
       "<tr>\n",
       "  <th>Transportation expense</th>          <td>   16.3586</td> <td>    5.299</td> <td>    3.087</td> <td> 0.002</td> <td>    5.952</td> <td>   26.766</td>\n",
       "</tr>\n",
       "<tr>\n",
       "  <th>Distance from Residence to Work</th> <td>    4.9241</td> <td>    3.128</td> <td>    1.574</td> <td> 0.116</td> <td>   -1.219</td> <td>   11.068</td>\n",
       "</tr>\n",
       "<tr>\n",
       "  <th>Service time</th>                    <td>    5.9909</td> <td>    6.024</td> <td>    0.994</td> <td> 0.320</td> <td>   -5.841</td> <td>   17.823</td>\n",
       "</tr>\n",
       "<tr>\n",
       "  <th>Age</th>                             <td>   -2.6141</td> <td>    4.575</td> <td>   -0.571</td> <td> 0.568</td> <td>  -11.600</td> <td>    6.372</td>\n",
       "</tr>\n",
       "<tr>\n",
       "  <th>Work load Average day</th>           <td>    2.3533</td> <td>    2.580</td> <td>    0.912</td> <td> 0.362</td> <td>   -2.715</td> <td>    7.422</td>\n",
       "</tr>\n",
       "<tr>\n",
       "  <th>Hit target</th>                      <td>    6.4968</td> <td>    2.815</td> <td>    2.308</td> <td> 0.021</td> <td>    0.968</td> <td>   12.026</td>\n",
       "</tr>\n",
       "<tr>\n",
       "  <th>Disciplinary failure</th>            <td>   -2.8090</td> <td>    2.818</td> <td>   -0.997</td> <td> 0.319</td> <td>   -8.345</td> <td>    2.726</td>\n",
       "</tr>\n",
       "<tr>\n",
       "  <th>Education</th>                       <td>   -1.8369</td> <td>    1.312</td> <td>   -1.400</td> <td> 0.162</td> <td>   -4.413</td> <td>    0.739</td>\n",
       "</tr>\n",
       "<tr>\n",
       "  <th>Son</th>                             <td>    5.0552</td> <td>    2.837</td> <td>    1.782</td> <td> 0.075</td> <td>   -0.517</td> <td>   10.627</td>\n",
       "</tr>\n",
       "<tr>\n",
       "  <th>Social drinker</th>                  <td>   -5.9321</td> <td>    3.370</td> <td>   -1.760</td> <td> 0.079</td> <td>  -12.551</td> <td>    0.686</td>\n",
       "</tr>\n",
       "<tr>\n",
       "  <th>Social smoker</th>                   <td>   -3.2656</td> <td>    3.479</td> <td>   -0.939</td> <td> 0.348</td> <td>  -10.098</td> <td>    3.567</td>\n",
       "</tr>\n",
       "<tr>\n",
       "  <th>Pet</th>                             <td>   -4.9064</td> <td>    2.592</td> <td>   -1.893</td> <td> 0.059</td> <td>   -9.997</td> <td>    0.185</td>\n",
       "</tr>\n",
       "<tr>\n",
       "  <th>Weight</th>                          <td>    2.3393</td> <td>    3.600</td> <td>    0.650</td> <td> 0.516</td> <td>   -4.732</td> <td>    9.411</td>\n",
       "</tr>\n",
       "<tr>\n",
       "  <th>Height</th>                          <td>   15.7909</td> <td>    3.642</td> <td>    4.336</td> <td> 0.000</td> <td>    8.638</td> <td>   22.944</td>\n",
       "</tr>\n",
       "</table>\n",
       "<table class=\"simpletable\">\n",
       "<tr>\n",
       "  <th>Omnibus:</th>       <td>663.149</td> <th>  Durbin-Watson:     </th> <td>   2.041</td> \n",
       "</tr>\n",
       "<tr>\n",
       "  <th>Prob(Omnibus):</th> <td> 0.000</td>  <th>  Jarque-Bera (JB):  </th> <td>37562.974</td>\n",
       "</tr>\n",
       "<tr>\n",
       "  <th>Skew:</th>          <td> 5.371</td>  <th>  Prob(JB):          </th> <td>    0.00</td> \n",
       "</tr>\n",
       "<tr>\n",
       "  <th>Kurtosis:</th>      <td>40.516</td>  <th>  Cond. No.          </th> <td>    414.</td> \n",
       "</tr>\n",
       "</table><br/><br/>Warnings:<br/>[1] Standard Errors assume that the covariance matrix of the errors is correctly specified."
      ],
      "text/plain": [
       "<class 'statsmodels.iolib.summary.Summary'>\n",
       "\"\"\"\n",
       "                                OLS Regression Results                               \n",
       "=====================================================================================\n",
       "Dep. Variable:     Absenteeism time in hours   R-squared:                       0.323\n",
       "Model:                                   OLS   Adj. R-squared:                  0.301\n",
       "Method:                        Least Squares   F-statistic:                     14.41\n",
       "Date:                       Sat, 01 Dec 2018   Prob (F-statistic):           1.35e-37\n",
       "Time:                               15:31:34   Log-Likelihood:                -2322.4\n",
       "No. Observations:                        592   AIC:                             4683.\n",
       "Df Residuals:                            573   BIC:                             4766.\n",
       "Df Model:                                 19                                         \n",
       "Covariance Type:                   nonrobust                                         \n",
       "===================================================================================================\n",
       "                                      coef    std err          t      P>|t|      [0.025      0.975]\n",
       "---------------------------------------------------------------------------------------------------\n",
       "ID                                  0.0785      0.083      0.943      0.346      -0.085       0.242\n",
       "Reason for absence                 -0.4477      0.085     -5.252      0.000      -0.615      -0.280\n",
       "Month of absence                    0.1991      0.214      0.929      0.353      -0.222       0.620\n",
       "Day of the week                    -1.2039      0.427     -2.818      0.005      -2.043      -0.365\n",
       "Seasons                            -0.0391      0.613     -0.064      0.949      -1.242       1.164\n",
       "Transportation expense             16.3586      5.299      3.087      0.002       5.952      26.766\n",
       "Distance from Residence to Work     4.9241      3.128      1.574      0.116      -1.219      11.068\n",
       "Service time                        5.9909      6.024      0.994      0.320      -5.841      17.823\n",
       "Age                                -2.6141      4.575     -0.571      0.568     -11.600       6.372\n",
       "Work load Average day               2.3533      2.580      0.912      0.362      -2.715       7.422\n",
       "Hit target                          6.4968      2.815      2.308      0.021       0.968      12.026\n",
       "Disciplinary failure               -2.8090      2.818     -0.997      0.319      -8.345       2.726\n",
       "Education                          -1.8369      1.312     -1.400      0.162      -4.413       0.739\n",
       "Son                                 5.0552      2.837      1.782      0.075      -0.517      10.627\n",
       "Social drinker                     -5.9321      3.370     -1.760      0.079     -12.551       0.686\n",
       "Social smoker                      -3.2656      3.479     -0.939      0.348     -10.098       3.567\n",
       "Pet                                -4.9064      2.592     -1.893      0.059      -9.997       0.185\n",
       "Weight                              2.3393      3.600      0.650      0.516      -4.732       9.411\n",
       "Height                             15.7909      3.642      4.336      0.000       8.638      22.944\n",
       "==============================================================================\n",
       "Omnibus:                      663.149   Durbin-Watson:                   2.041\n",
       "Prob(Omnibus):                  0.000   Jarque-Bera (JB):            37562.974\n",
       "Skew:                           5.371   Prob(JB):                         0.00\n",
       "Kurtosis:                      40.516   Cond. No.                         414.\n",
       "==============================================================================\n",
       "\n",
       "Warnings:\n",
       "[1] Standard Errors assume that the covariance matrix of the errors is correctly specified.\n",
       "\"\"\""
      ]
     },
     "execution_count": 290,
     "metadata": {},
     "output_type": "execute_result"
    }
   ],
   "source": [
    "######Multiple Linear Regression\n",
    "import statsmodels.api as sm\n",
    "fit_lr = sm.OLS(train.iloc[:,19],train.iloc[:,0:19]).fit()\n",
    "fit_lr.summary()"
   ]
  },
  {
   "cell_type": "code",
   "execution_count": 291,
   "metadata": {},
   "outputs": [],
   "source": [
    "predict_lr = fit_lr.predict(test.iloc[:,0:19])"
   ]
  },
  {
   "cell_type": "code",
   "execution_count": 292,
   "metadata": {},
   "outputs": [
    {
     "data": {
      "text/plain": [
       "13.350487470207554"
      ]
     },
     "execution_count": 292,
     "metadata": {},
     "output_type": "execute_result"
    }
   ],
   "source": [
    "RMSE(test.iloc[:,19],predict_lr)\n",
    "#output = 13.350487470207554"
   ]
  },
  {
   "cell_type": "code",
   "execution_count": 293,
   "metadata": {},
   "outputs": [],
   "source": [
    "######KNN Implementation\n",
    "from sklearn import neighbors"
   ]
  },
  {
   "cell_type": "code",
   "execution_count": 296,
   "metadata": {},
   "outputs": [
    {
     "name": "stdout",
     "output_type": "stream",
     "text": [
      "RMSE value for k=  1 is: 14.467729514952214\n",
      "RMSE value for k=  2 is: 12.373157556806142\n",
      "RMSE value for k=  3 is: 12.196166107130725\n",
      "RMSE value for k=  4 is: 12.297380570300636\n",
      "RMSE value for k=  5 is: 12.27175077950854\n",
      "RMSE value for k=  6 is: 12.005646924340938\n",
      "RMSE value for k=  7 is: 11.889984714788298\n",
      "RMSE value for k=  8 is: 12.004480136399934\n",
      "RMSE value for k=  9 is: 11.651671757253359\n",
      "RMSE value for k=  10 is: 11.500224050876351\n",
      "RMSE value for k=  11 is: 11.572183272154177\n",
      "RMSE value for k=  12 is: 11.376831824502029\n",
      "RMSE value for k=  13 is: 11.453114313673906\n",
      "RMSE value for k=  14 is: 11.481691487620411\n",
      "RMSE value for k=  15 is: 11.537833731155834\n",
      "RMSE value for k=  16 is: 11.697754820552458\n",
      "RMSE value for k=  17 is: 11.631098243210118\n",
      "RMSE value for k=  18 is: 11.681205074889125\n",
      "RMSE value for k=  19 is: 11.77743960565311\n",
      "RMSE value for k=  20 is: 11.863789626146646\n",
      "RMSE value for k=  21 is: 11.836022843600114\n",
      "RMSE value for k=  22 is: 11.96278731553142\n",
      "RMSE value for k=  23 is: 11.996948105027037\n",
      "RMSE value for k=  24 is: 12.054509786298327\n",
      "RMSE value for k=  25 is: 12.159313959935803\n",
      "RMSE value for k=  26 is: 12.24080827305058\n",
      "RMSE value for k=  27 is: 12.305677965328808\n",
      "RMSE value for k=  28 is: 12.33737600394359\n",
      "RMSE value for k=  29 is: 12.309267834914719\n",
      "RMSE value for k=  30 is: 12.359696145806831\n"
     ]
    }
   ],
   "source": [
    "rmse_val = []           #to store rmse values for different k\n",
    "for K in range(30):\n",
    "    K = K+1\n",
    "    fit_knn = neighbors.KNeighborsRegressor(n_neighbors = K)\n",
    "    \n",
    "    fit_knn.fit(train.iloc[:,0:19], train.iloc[:,19]) #fit the model\n",
    "    \n",
    "    predict_knn = fit_knn.predict(test.iloc[:,0:19]) #make prediction on test set\n",
    "    error = RMSE(test.iloc[:,19] , predict_knn) #calculate rmse\n",
    "    rmse_val.append(error) #store rmse values\n",
    "    print('RMSE value for k= ' , K , 'is:', error)"
   ]
  },
  {
   "cell_type": "code",
   "execution_count": 297,
   "metadata": {
    "scrolled": true
   },
   "outputs": [
    {
     "data": {
      "text/plain": [
       "<matplotlib.axes._subplots.AxesSubplot at 0x1b47ce03b38>"
      ]
     },
     "execution_count": 297,
     "metadata": {},
     "output_type": "execute_result"
    },
    {
     "data": {
      "image/png": "[encoded data removed]",
      "text/plain": [
       "<Figure size 432x288 with 1 Axes>"
      ]
     },
     "metadata": {},
     "output_type": "display_data"
    }
   ],
   "source": [
    "#plotting the rmse values against k values\n",
    "curve = pd.DataFrame(rmse_val)  \n",
    "curve.plot()\n",
    "#K=12 is the value of neighbors for least RMSE."
   ]
  },
  {
   "cell_type": "code",
   "execution_count": 298,
   "metadata": {},
   "outputs": [
    {
     "data": {
      "text/plain": [
       "11.376831824502029"
      ]
     },
     "execution_count": 298,
     "metadata": {},
     "output_type": "execute_result"
    }
   ],
   "source": [
    "#For K=12:\n",
    "fit_knn = neighbors.KNeighborsRegressor(n_neighbors = 12)\n",
    "fit_knn.fit(train.iloc[:,0:19], train.iloc[:,19]) #fit the model\n",
    "predict_knn = fit_knn.predict(test.iloc[:,0:19]) #make prediction on test set\n",
    "RMSE(test.iloc[:,19] , predict_knn) "
   ]
  },
  {
   "cell_type": "code",
   "execution_count": null,
   "metadata": {},
   "outputs": [],
   "source": [
    "#Thus, we find the \"Random Forest Algorithm\" gives us the best result with the least RMSE for this dataset."
   ]
  }
 ],
 "metadata": {
  "kernelspec": {
   "display_name": "Python 3",
   "language": "python",
   "name": "python3"
  },
  "language_info": {
   "codemirror_mode": {
    "name": "ipython",
    "version": 3
   },
   "file_extension": ".py",
   "mimetype": "text/x-python",
   "name": "python",
   "nbconvert_exporter": "python",
   "pygments_lexer": "ipython3",
   "version": "3.6.5"
  }
 },
 "nbformat": 4,
 "nbformat_minor": 2
}
